{
 "cells": [
  {
   "cell_type": "code",
   "execution_count": 3,
   "metadata": {},
   "outputs": [],
   "source": [
    "import pandas as pd   # pip install pandas\n",
    "\n",
    "df_faces = pd.read_excel('../stats/Преступность/11/ЛИЦА.xls', sheet_name='ЛИЦА-1', index_col=0) #считываем excel файл\n",
    "#df_faces = df_faces.reset_index() #\n",
    "df_faces = df_faces.rename(columns=lambda x: x if not 'Unnamed' in str(x) else None)\n",
    "df_faces = df_faces.dropna()\n",
    "df_faces.columns = pd.Series(df_faces.columns).fillna(method='ffill', axis=0)"
   ]
  },
  {
   "cell_type": "code",
   "execution_count": 4,
   "metadata": {
    "pycharm": {
     "name": "#%%\n"
    }
   },
   "outputs": [],
   "source": [
    "def read_excel(data, path, sheet):\n",
    "    data = pd.read_excel(path, sheet_name=sheet, index_col=0) #считываем excel файл\n",
    "    data = data.reset_index() #\n",
    "    data = data.rename(columns=lambda x: x if not 'Unnamed' in str(x) else None)\n",
    "    #data = data.dropna()\n",
    "    data.columns = pd.Series(data.columns).fillna(method='ffill', axis=0)\n",
    "    return data\n",
    "\n",
    "df_stats_all = pd.DataFrame()\n",
    "df_stats_all = read_excel(df_stats_all, 'outputMain.xlsx', 'all')\n",
    "df_stats_all_c = df_stats_all.copy()"
   ]
  },
  {
   "cell_type": "code",
   "execution_count": 5,
   "metadata": {},
   "outputs": [],
   "source": [
    "df_faces.index = df_faces.index.str.lower()"
   ]
  },
  {
   "cell_type": "code",
   "execution_count": 6,
   "metadata": {},
   "outputs": [],
   "source": [
    "df_faces_c = df_faces.copy()"
   ]
  },
  {
   "cell_type": "code",
   "execution_count": 7,
   "metadata": {},
   "outputs": [
    {
     "data": {
      "text/html": [
       "<div>\n",
       "<style scoped>\n",
       "    .dataframe tbody tr th:only-of-type {\n",
       "        vertical-align: middle;\n",
       "    }\n",
       "\n",
       "    .dataframe tbody tr th {\n",
       "        vertical-align: top;\n",
       "    }\n",
       "\n",
       "    .dataframe thead th {\n",
       "        text-align: right;\n",
       "    }\n",
       "</style>\n",
       "<table border=\"1\" class=\"dataframe\">\n",
       "  <thead>\n",
       "    <tr style=\"text-align: right;\">\n",
       "      <th></th>\n",
       "      <th>ВСЕГО</th>\n",
       "      <th>ВСЕГО</th>\n",
       "      <th>ВСЕГО</th>\n",
       "      <th>ВСЕГО</th>\n",
       "      <th>ВСЕГО</th>\n",
       "    </tr>\n",
       "    <tr>\n",
       "      <th>СВЕДЕНИЯ О ЛИЦАХ, СОВЕРШИВШИХ ПРЕСТУПЛЕНИЯ</th>\n",
       "      <th></th>\n",
       "      <th></th>\n",
       "      <th></th>\n",
       "      <th></th>\n",
       "      <th></th>\n",
       "    </tr>\n",
       "  </thead>\n",
       "  <tbody>\n",
       "    <tr>\n",
       "      <th>год</th>\n",
       "      <td>2014.0</td>\n",
       "      <td>2015.0</td>\n",
       "      <td>2016.0</td>\n",
       "      <td>2017.0</td>\n",
       "      <td>2018.0</td>\n",
       "    </tr>\n",
       "    <tr>\n",
       "      <th>итого</th>\n",
       "      <td>24763.0</td>\n",
       "      <td>26665.0</td>\n",
       "      <td>26039.0</td>\n",
       "      <td>23465.0</td>\n",
       "      <td>22786.0</td>\n",
       "    </tr>\n",
       "  </tbody>\n",
       "</table>\n",
       "</div>"
      ],
      "text/plain": [
       "                                              ВСЕГО    ВСЕГО    ВСЕГО  \\\n",
       "СВЕДЕНИЯ О ЛИЦАХ, СОВЕРШИВШИХ ПРЕСТУПЛЕНИЯ                              \n",
       "год                                          2014.0   2015.0   2016.0   \n",
       "итого                                       24763.0  26665.0  26039.0   \n",
       "\n",
       "                                              ВСЕГО    ВСЕГО  \n",
       "СВЕДЕНИЯ О ЛИЦАХ, СОВЕРШИВШИХ ПРЕСТУПЛЕНИЯ                    \n",
       "год                                          2017.0   2018.0  \n",
       "итого                                       23465.0  22786.0  "
      ]
     },
     "execution_count": 7,
     "metadata": {},
     "output_type": "execute_result"
    }
   ],
   "source": [
    "df_faces_c = df_faces_c.loc[['год', 'итого'], 'ВСЕГО']\n",
    "df_faces_c = df_faces_c.T[df_faces_c.T['год'] > 2013]\n",
    "df_faces_c = df_faces_c[df_faces_c['год'] < 2019]\n",
    "df_faces_c = df_faces_c.T\n",
    "df_faces_c"
   ]
  },
  {
   "cell_type": "code",
   "execution_count": 8,
   "metadata": {},
   "outputs": [],
   "source": [
    "df_faces_c.columns = df_faces_c.iloc[0]\n",
    "df_faces_c = df_faces_c.drop(df_faces_c.index[0])"
   ]
  },
  {
   "cell_type": "code",
   "execution_count": 9,
   "metadata": {},
   "outputs": [
    {
     "data": {
      "text/html": [
       "<div>\n",
       "<style scoped>\n",
       "    .dataframe tbody tr th:only-of-type {\n",
       "        vertical-align: middle;\n",
       "    }\n",
       "\n",
       "    .dataframe tbody tr th {\n",
       "        vertical-align: top;\n",
       "    }\n",
       "\n",
       "    .dataframe thead th {\n",
       "        text-align: right;\n",
       "    }\n",
       "</style>\n",
       "<table border=\"1\" class=\"dataframe\">\n",
       "  <thead>\n",
       "    <tr style=\"text-align: right;\">\n",
       "      <th>СВЕДЕНИЯ О ЛИЦАХ, СОВЕРШИВШИХ ПРЕСТУПЛЕНИЯ</th>\n",
       "      <th>итого</th>\n",
       "    </tr>\n",
       "    <tr>\n",
       "      <th>год</th>\n",
       "      <th></th>\n",
       "    </tr>\n",
       "  </thead>\n",
       "  <tbody>\n",
       "    <tr>\n",
       "      <th>2014.0</th>\n",
       "      <td>24763.0</td>\n",
       "    </tr>\n",
       "    <tr>\n",
       "      <th>2015.0</th>\n",
       "      <td>26665.0</td>\n",
       "    </tr>\n",
       "    <tr>\n",
       "      <th>2016.0</th>\n",
       "      <td>26039.0</td>\n",
       "    </tr>\n",
       "    <tr>\n",
       "      <th>2017.0</th>\n",
       "      <td>23465.0</td>\n",
       "    </tr>\n",
       "    <tr>\n",
       "      <th>2018.0</th>\n",
       "      <td>22786.0</td>\n",
       "    </tr>\n",
       "  </tbody>\n",
       "</table>\n",
       "</div>"
      ],
      "text/plain": [
       "СВЕДЕНИЯ О ЛИЦАХ, СОВЕРШИВШИХ ПРЕСТУПЛЕНИЯ    итого\n",
       "год                                                \n",
       "2014.0                                      24763.0\n",
       "2015.0                                      26665.0\n",
       "2016.0                                      26039.0\n",
       "2017.0                                      23465.0\n",
       "2018.0                                      22786.0"
      ]
     },
     "execution_count": 9,
     "metadata": {},
     "output_type": "execute_result"
    }
   ],
   "source": [
    "df_faces_c.T"
   ]
  },
  {
   "cell_type": "code",
   "execution_count": 10,
   "metadata": {},
   "outputs": [
    {
     "data": {
      "text/html": [
       "<div>\n",
       "<style scoped>\n",
       "    .dataframe tbody tr th:only-of-type {\n",
       "        vertical-align: middle;\n",
       "    }\n",
       "\n",
       "    .dataframe tbody tr th {\n",
       "        vertical-align: top;\n",
       "    }\n",
       "\n",
       "    .dataframe thead th {\n",
       "        text-align: right;\n",
       "    }\n",
       "</style>\n",
       "<table border=\"1\" class=\"dataframe\">\n",
       "  <thead>\n",
       "    <tr style=\"text-align: right;\">\n",
       "      <th></th>\n",
       "      <th>index</th>\n",
       "      <th>2014</th>\n",
       "      <th>2015</th>\n",
       "      <th>2016</th>\n",
       "      <th>2017</th>\n",
       "      <th>2018</th>\n",
       "    </tr>\n",
       "  </thead>\n",
       "  <tbody>\n",
       "    <tr>\n",
       "      <th>6</th>\n",
       "      <td>безработные – всего</td>\n",
       "      <td>83.4</td>\n",
       "      <td>94.8</td>\n",
       "      <td>99.6</td>\n",
       "      <td>78.2</td>\n",
       "      <td>70.3</td>\n",
       "    </tr>\n",
       "  </tbody>\n",
       "</table>\n",
       "</div>"
      ],
      "text/plain": [
       "                 index  2014  2015  2016  2017  2018\n",
       "6  безработные – всего  83.4  94.8  99.6  78.2  70.3"
      ]
     },
     "execution_count": 10,
     "metadata": {},
     "output_type": "execute_result"
    }
   ],
   "source": [
    "df_stats_all_c.loc[[6]]"
   ]
  },
  {
   "cell_type": "code",
   "execution_count": 11,
   "metadata": {},
   "outputs": [
    {
     "data": {
      "text/html": [
       "<div>\n",
       "<style scoped>\n",
       "    .dataframe tbody tr th:only-of-type {\n",
       "        vertical-align: middle;\n",
       "    }\n",
       "\n",
       "    .dataframe tbody tr th {\n",
       "        vertical-align: top;\n",
       "    }\n",
       "\n",
       "    .dataframe thead th {\n",
       "        text-align: right;\n",
       "    }\n",
       "</style>\n",
       "<table border=\"1\" class=\"dataframe\">\n",
       "  <thead>\n",
       "    <tr style=\"text-align: right;\">\n",
       "      <th></th>\n",
       "      <th>6</th>\n",
       "    </tr>\n",
       "  </thead>\n",
       "  <tbody>\n",
       "    <tr>\n",
       "      <th>2014</th>\n",
       "      <td>83.4</td>\n",
       "    </tr>\n",
       "    <tr>\n",
       "      <th>2015</th>\n",
       "      <td>94.8</td>\n",
       "    </tr>\n",
       "    <tr>\n",
       "      <th>2016</th>\n",
       "      <td>99.6</td>\n",
       "    </tr>\n",
       "    <tr>\n",
       "      <th>2017</th>\n",
       "      <td>78.2</td>\n",
       "    </tr>\n",
       "    <tr>\n",
       "      <th>2018</th>\n",
       "      <td>70.3</td>\n",
       "    </tr>\n",
       "  </tbody>\n",
       "</table>\n",
       "</div>"
      ],
      "text/plain": [
       "         6\n",
       "2014  83.4\n",
       "2015  94.8\n",
       "2016  99.6\n",
       "2017  78.2\n",
       "2018  70.3"
      ]
     },
     "execution_count": 11,
     "metadata": {},
     "output_type": "execute_result"
    }
   ],
   "source": [
    "df_stats_all_c = df_stats_all.copy()\n",
    "df_stats_all_c = df_stats_all_c.loc[[6]]\n",
    "df_stats_all_c = df_stats_all_c.T\n",
    "df_stats_all_c = df_stats_all_c.drop(df_stats_all_c.index[0])\n",
    "df_stats_all_c"
   ]
  },
  {
   "cell_type": "markdown",
   "metadata": {},
   "source": [
    "Проверка на нормальность"
   ]
  },
  {
   "cell_type": "code",
   "execution_count": 12,
   "metadata": {},
   "outputs": [
    {
     "data": {
      "text/plain": [
       "[ShapiroResult(statistic=0.9445344805717468, pvalue=0.698148250579834),\n",
       " ShapiroResult(statistic=0.9609274864196777, pvalue=0.8144269585609436)]"
      ]
     },
     "execution_count": 12,
     "metadata": {},
     "output_type": "execute_result"
    }
   ],
   "source": [
    "from scipy import stats\n",
    "\n",
    "[stats.shapiro(df_faces_c.squeeze()), stats.shapiro(df_stats_all_c.squeeze())]"
   ]
  },
  {
   "cell_type": "markdown",
   "metadata": {},
   "source": [
    "Данные имеют нормальное распределение. Можно рассчитвать корреляцию Пирсона"
   ]
  },
  {
   "cell_type": "code",
   "execution_count": 13,
   "metadata": {},
   "outputs": [
    {
     "data": {
      "text/plain": [
       "(0.9534474427541751, 0.011972727440374102)"
      ]
     },
     "execution_count": 13,
     "metadata": {},
     "output_type": "execute_result"
    }
   ],
   "source": [
    "stats.pearsonr(df_faces_c.squeeze(), df_stats_all_c.squeeze())"
   ]
  },
  {
   "cell_type": "markdown",
   "metadata": {},
   "source": [
    "Наблюдаем очень высокий коэффициент корреляции между значением преступности и уровнем безработицы в алтайском крае"
   ]
  },
  {
   "cell_type": "code",
   "execution_count": 14,
   "metadata": {},
   "outputs": [
    {
     "data": {
      "text/html": [
       "<div>\n",
       "<style scoped>\n",
       "    .dataframe tbody tr th:only-of-type {\n",
       "        vertical-align: middle;\n",
       "    }\n",
       "\n",
       "    .dataframe tbody tr th {\n",
       "        vertical-align: top;\n",
       "    }\n",
       "\n",
       "    .dataframe thead th {\n",
       "        text-align: right;\n",
       "    }\n",
       "</style>\n",
       "<table border=\"1\" class=\"dataframe\">\n",
       "  <thead>\n",
       "    <tr style=\"text-align: right;\">\n",
       "      <th></th>\n",
       "      <th>index</th>\n",
       "      <th>2014</th>\n",
       "      <th>2015</th>\n",
       "      <th>2016</th>\n",
       "      <th>2017</th>\n",
       "      <th>2018</th>\n",
       "    </tr>\n",
       "  </thead>\n",
       "  <tbody>\n",
       "    <tr>\n",
       "      <th>0</th>\n",
       "      <td>обучающиеся</td>\n",
       "      <td>245057</td>\n",
       "      <td>251348</td>\n",
       "      <td>259214</td>\n",
       "      <td>265580</td>\n",
       "      <td>269885</td>\n",
       "    </tr>\n",
       "    <tr>\n",
       "      <th>1</th>\n",
       "      <td>чел СПО</td>\n",
       "      <td>31659</td>\n",
       "      <td>33161</td>\n",
       "      <td>47310</td>\n",
       "      <td>47533</td>\n",
       "      <td>48342</td>\n",
       "    </tr>\n",
       "    <tr>\n",
       "      <th>2</th>\n",
       "      <td>принято СПО</td>\n",
       "      <td>10384</td>\n",
       "      <td>10758</td>\n",
       "      <td>15047</td>\n",
       "      <td>15855</td>\n",
       "      <td>16282</td>\n",
       "    </tr>\n",
       "    <tr>\n",
       "      <th>3</th>\n",
       "      <td>выпущено СПО</td>\n",
       "      <td>6950</td>\n",
       "      <td>6620</td>\n",
       "      <td>11734</td>\n",
       "      <td>11899</td>\n",
       "      <td>11585</td>\n",
       "    </tr>\n",
       "    <tr>\n",
       "      <th>4</th>\n",
       "      <td>чел высш</td>\n",
       "      <td>69252</td>\n",
       "      <td>60711</td>\n",
       "      <td>52127</td>\n",
       "      <td>51129</td>\n",
       "      <td>50297</td>\n",
       "    </tr>\n",
       "    <tr>\n",
       "      <th>5</th>\n",
       "      <td>принято чел высш</td>\n",
       "      <td>14520</td>\n",
       "      <td>14080</td>\n",
       "      <td>12984</td>\n",
       "      <td>13780</td>\n",
       "      <td>13197</td>\n",
       "    </tr>\n",
       "    <tr>\n",
       "      <th>6</th>\n",
       "      <td>выпущено чел высш</td>\n",
       "      <td>14836</td>\n",
       "      <td>15092</td>\n",
       "      <td>13265</td>\n",
       "      <td>10458</td>\n",
       "      <td>10255</td>\n",
       "    </tr>\n",
       "  </tbody>\n",
       "</table>\n",
       "</div>"
      ],
      "text/plain": [
       "               index    2014    2015    2016    2017    2018\n",
       "0        обучающиеся  245057  251348  259214  265580  269885\n",
       "1           чел СПО    31659   33161   47310   47533   48342\n",
       "2        принято СПО   10384   10758   15047   15855   16282\n",
       "3      выпущено СПО     6950    6620   11734   11899   11585\n",
       "4           чел высш   69252   60711   52127   51129   50297\n",
       "5   принято чел высш   14520   14080   12984   13780   13197\n",
       "6  выпущено чел высш   14836   15092   13265   10458   10255"
      ]
     },
     "execution_count": 14,
     "metadata": {},
     "output_type": "execute_result"
    }
   ],
   "source": [
    "df_stud = read_excel(df_stats_all, 'outputStudMain.xlsx', 'Sheet1')\n",
    "df_stud_c = df_stud.copy()\n",
    "df_stud_c"
   ]
  },
  {
   "cell_type": "code",
   "execution_count": 15,
   "metadata": {},
   "outputs": [
    {
     "data": {
      "text/html": [
       "<div>\n",
       "<style scoped>\n",
       "    .dataframe tbody tr th:only-of-type {\n",
       "        vertical-align: middle;\n",
       "    }\n",
       "\n",
       "    .dataframe tbody tr th {\n",
       "        vertical-align: top;\n",
       "    }\n",
       "\n",
       "    .dataframe thead th {\n",
       "        text-align: right;\n",
       "    }\n",
       "</style>\n",
       "<table border=\"1\" class=\"dataframe\">\n",
       "  <thead>\n",
       "    <tr style=\"text-align: right;\">\n",
       "      <th></th>\n",
       "      <th>0</th>\n",
       "      <th>1</th>\n",
       "      <th>2</th>\n",
       "      <th>3</th>\n",
       "      <th>4</th>\n",
       "      <th>5</th>\n",
       "      <th>6</th>\n",
       "    </tr>\n",
       "  </thead>\n",
       "  <tbody>\n",
       "    <tr>\n",
       "      <th>2014</th>\n",
       "      <td>245057</td>\n",
       "      <td>31659</td>\n",
       "      <td>10384</td>\n",
       "      <td>6950</td>\n",
       "      <td>69252</td>\n",
       "      <td>14520</td>\n",
       "      <td>14836</td>\n",
       "    </tr>\n",
       "    <tr>\n",
       "      <th>2015</th>\n",
       "      <td>251348</td>\n",
       "      <td>33161</td>\n",
       "      <td>10758</td>\n",
       "      <td>6620</td>\n",
       "      <td>60711</td>\n",
       "      <td>14080</td>\n",
       "      <td>15092</td>\n",
       "    </tr>\n",
       "    <tr>\n",
       "      <th>2016</th>\n",
       "      <td>259214</td>\n",
       "      <td>47310</td>\n",
       "      <td>15047</td>\n",
       "      <td>11734</td>\n",
       "      <td>52127</td>\n",
       "      <td>12984</td>\n",
       "      <td>13265</td>\n",
       "    </tr>\n",
       "    <tr>\n",
       "      <th>2017</th>\n",
       "      <td>265580</td>\n",
       "      <td>47533</td>\n",
       "      <td>15855</td>\n",
       "      <td>11899</td>\n",
       "      <td>51129</td>\n",
       "      <td>13780</td>\n",
       "      <td>10458</td>\n",
       "    </tr>\n",
       "    <tr>\n",
       "      <th>2018</th>\n",
       "      <td>269885</td>\n",
       "      <td>48342</td>\n",
       "      <td>16282</td>\n",
       "      <td>11585</td>\n",
       "      <td>50297</td>\n",
       "      <td>13197</td>\n",
       "      <td>10255</td>\n",
       "    </tr>\n",
       "  </tbody>\n",
       "</table>\n",
       "</div>"
      ],
      "text/plain": [
       "           0      1      2      3      4      5      6\n",
       "2014  245057  31659  10384   6950  69252  14520  14836\n",
       "2015  251348  33161  10758   6620  60711  14080  15092\n",
       "2016  259214  47310  15047  11734  52127  12984  13265\n",
       "2017  265580  47533  15855  11899  51129  13780  10458\n",
       "2018  269885  48342  16282  11585  50297  13197  10255"
      ]
     },
     "execution_count": 15,
     "metadata": {},
     "output_type": "execute_result"
    }
   ],
   "source": [
    "df_stud_c = df_stud_c.T\n",
    "df_stud_c = df_stud_c.drop(df_stud_c.index[0])\n",
    "df_stud_c"
   ]
  },
  {
   "cell_type": "markdown",
   "metadata": {},
   "source": [
    "Проверка на нормальность"
   ]
  },
  {
   "cell_type": "code",
   "execution_count": 16,
   "metadata": {},
   "outputs": [
    {
     "data": {
      "text/plain": [
       "[ShapiroResult(statistic=0.9653968811035156, pvalue=0.8449691534042358),\n",
       " ShapiroResult(statistic=0.7479941844940186, pvalue=0.028514130041003227),\n",
       " ShapiroResult(statistic=0.8094250559806824, pvalue=0.09649751335382462),\n",
       " ShapiroResult(statistic=0.7357102632522583, pvalue=0.02182762511074543),\n",
       " ShapiroResult(statistic=0.8340088129043579, pvalue=0.1490303874015808),\n",
       " ShapiroResult(statistic=0.9588518738746643, pvalue=0.7999665141105652),\n",
       " ShapiroResult(statistic=0.8457009196281433, pvalue=0.18130750954151154)]"
      ]
     },
     "execution_count": 16,
     "metadata": {},
     "output_type": "execute_result"
    }
   ],
   "source": [
    "[stats.shapiro(df_stud_c[0]), stats.shapiro(df_stud_c[1]), stats.shapiro(df_stud_c[2]), stats.shapiro(df_stud_c[3]),stats.shapiro(df_stud_c[4]),stats.shapiro(df_stud_c[5]),stats.shapiro(df_stud_c[6])] "
   ]
  },
  {
   "cell_type": "markdown",
   "metadata": {},
   "source": [
    "Видим, что у датафремов df_stud_c с индексами 1 и 3 распределение отлично от норамльного, т.к. pvalue < 0.05. Для них будем расчитывать корреляцию Кендалла"
   ]
  },
  {
   "cell_type": "code",
   "execution_count": 17,
   "metadata": {},
   "outputs": [
    {
     "data": {
      "text/plain": [
       "2014    245057\n",
       "2015    251348\n",
       "2016    259214\n",
       "2017    265580\n",
       "2018    269885\n",
       "Name: 0, dtype: object"
      ]
     },
     "execution_count": 17,
     "metadata": {},
     "output_type": "execute_result"
    }
   ],
   "source": [
    "df_stud_c[0]\n"
   ]
  },
  {
   "cell_type": "code",
   "execution_count": 18,
   "metadata": {},
   "outputs": [
    {
     "data": {
      "text/plain": [
       "array([3., 4., 5., 2., 1.])"
      ]
     },
     "execution_count": 18,
     "metadata": {},
     "output_type": "execute_result"
    }
   ],
   "source": [
    "stats.rankdata(df_stats_all_c.squeeze())"
   ]
  },
  {
   "cell_type": "markdown",
   "metadata": {},
   "source": [
    "Корреляция между уровнем безработицы и кол-вом обучающихся всего"
   ]
  },
  {
   "cell_type": "code",
   "execution_count": 19,
   "metadata": {},
   "outputs": [
    {
     "data": {
      "text/plain": [
       "(-0.5211450195316683, 0.36785395777477875)"
      ]
     },
     "execution_count": 19,
     "metadata": {},
     "output_type": "execute_result"
    }
   ],
   "source": [
    "stats.pearsonr(df_stats_all_c.squeeze(), df_stud_c[0])\n"
   ]
  },
  {
   "cell_type": "markdown",
   "metadata": {},
   "source": [
    "Корреляция между уровнем безработицы и кол-вом человек в учреждениях СПО"
   ]
  },
  {
   "cell_type": "code",
   "execution_count": 20,
   "metadata": {},
   "outputs": [
    {
     "data": {
      "text/plain": [
       "KendalltauResult(correlation=-0.39999999999999997, pvalue=0.48333333333333334)"
      ]
     },
     "execution_count": 20,
     "metadata": {},
     "output_type": "execute_result"
    }
   ],
   "source": [
    "stats.kendalltau(stats.rankdata(df_stats_all_c.squeeze()), stats.rankdata(df_stud_c[1]))\n"
   ]
  },
  {
   "cell_type": "markdown",
   "metadata": {},
   "source": [
    "Корреляция между уровнем безработицы и кол-вом принятых человек в учреждения СПО"
   ]
  },
  {
   "cell_type": "code",
   "execution_count": 21,
   "metadata": {},
   "outputs": [
    {
     "data": {
      "text/plain": [
       "SpearmanrResult(correlation=-0.6, pvalue=0.28475697986529375)"
      ]
     },
     "execution_count": 21,
     "metadata": {},
     "output_type": "execute_result"
    }
   ],
   "source": [
    "stats.spearmanr(df_stats_all_c.squeeze(), df_stud_c[2])\n"
   ]
  },
  {
   "cell_type": "markdown",
   "metadata": {},
   "source": [
    "Корреляция между уровнем безработицы и кол-вом выпустников из учреждений СПО"
   ]
  },
  {
   "cell_type": "code",
   "execution_count": 22,
   "metadata": {},
   "outputs": [
    {
     "data": {
      "text/plain": [
       "KendalltauResult(correlation=-0.19999999999999998, pvalue=0.8166666666666667)"
      ]
     },
     "execution_count": 22,
     "metadata": {},
     "output_type": "execute_result"
    }
   ],
   "source": [
    "stats.kendalltau(stats.rankdata(df_stats_all_c.squeeze()), stats.rankdata(df_stud_c[3]))\n"
   ]
  },
  {
   "cell_type": "markdown",
   "metadata": {},
   "source": [
    "Корреляция между уровнем безработицы и кол-вом человек в ВУЗах"
   ]
  },
  {
   "cell_type": "code",
   "execution_count": 23,
   "metadata": {},
   "outputs": [
    {
     "data": {
      "text/plain": [
       "(0.21596180842636714, 0.7271815128037152)"
      ]
     },
     "execution_count": 23,
     "metadata": {},
     "output_type": "execute_result"
    }
   ],
   "source": [
    "stats.pearsonr(df_stats_all_c.squeeze(), df_stud_c[4])\n"
   ]
  },
  {
   "cell_type": "markdown",
   "metadata": {},
   "source": [
    "Корреляция между уровнем безработицы и кол-вом человек принятых в ВУЗ"
   ]
  },
  {
   "cell_type": "code",
   "execution_count": 24,
   "metadata": {},
   "outputs": [
    {
     "data": {
      "text/plain": [
       "(-0.039997505830881186, 0.9490871758271164)"
      ]
     },
     "execution_count": 24,
     "metadata": {},
     "output_type": "execute_result"
    }
   ],
   "source": [
    "stats.pearsonr(df_stats_all_c.squeeze(), df_stud_c[5])\n"
   ]
  },
  {
   "cell_type": "markdown",
   "metadata": {},
   "source": [
    "Корреляция между уровнем безработицы и кол-вом выпустников из ВУЗов"
   ]
  },
  {
   "cell_type": "code",
   "execution_count": 25,
   "metadata": {},
   "outputs": [
    {
     "data": {
      "text/plain": [
       "(0.7132375534801394, 0.17619454693278938)"
      ]
     },
     "execution_count": 25,
     "metadata": {},
     "output_type": "execute_result"
    }
   ],
   "source": [
    "stats.pearsonr(df_stats_all_c.squeeze(), df_stud_c[6])"
   ]
  },
  {
   "cell_type": "markdown",
   "metadata": {},
   "source": [
    "Высокая корреляция между уровнем безработицы и кол-вом выпустников из ВУЗов, следовательно при уменьшении кол-ва выпускников уровень безроботицы повышается. Но кол-во выпускников из учреждений СПО влияет на безработицу незначительно. Так же можем сказать, что при росте кол-ва обучающихся в целом, уровень безработицы уменьтшается"
   ]
  },
  {
   "cell_type": "code",
   "execution_count": null,
   "metadata": {},
   "outputs": [],
   "source": []
  },
  {
   "cell_type": "code",
   "execution_count": null,
   "metadata": {},
   "outputs": [],
   "source": []
  }
 ],
 "metadata": {
  "kernelspec": {
   "display_name": "Python 3",
   "language": "python",
   "name": "python3"
  },
  "language_info": {
   "codemirror_mode": {
    "name": "ipython",
    "version": 3
   },
   "file_extension": ".py",
   "mimetype": "text/x-python",
   "name": "python",
   "nbconvert_exporter": "python",
   "pygments_lexer": "ipython3",
   "version": "3.8.6"
  }
 },
 "nbformat": 4,
 "nbformat_minor": 1
}